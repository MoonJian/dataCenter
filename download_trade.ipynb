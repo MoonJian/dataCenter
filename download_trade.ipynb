{
 "cells": [
  {
   "cell_type": "code",
   "execution_count": 1,
   "metadata": {},
   "outputs": [],
   "source": [
    "import wget\n",
    "from datetime import datetime, timedelta\n",
    "import os"
   ]
  },
  {
   "cell_type": "markdown",
   "metadata": {},
   "source": [
    "# 现货数据"
   ]
  },
  {
   "cell_type": "code",
   "execution_count": null,
   "metadata": {},
   "outputs": [
    {
     "name": "stdout",
     "output_type": "stream",
     "text": [
      "download 2025-03-01...\n",
      "Finished downloading data!\n"
     ]
    }
   ],
   "source": [
    "symbol = \"ETHUSDC\"\n",
    "granularity = \"daily\"\n",
    "start_date = datetime(2025, 3, 1)\n",
    "end_date = datetime(2025, 3, 2)\n",
    "current_date = start_date\n",
    "while current_date < end_date:\n",
    "    date_str = current_date.strftime(\"%Y-%m-%d\")\n",
    "    print(f\"download {date_str}...\")\n",
    "    url = f\"https://data.binance.vision/data/spot/{granularity}/aggTrades/{symbol}/{symbol}-aggTrades-{date_str}.zip\"\n",
    "    file = f\"/mnt/e/spot_agg_trade_data/{symbol}-aggTrades-{date_str}.zip\"\n",
    "    wget.download(url, out=file)\n",
    "    current_date += timedelta(days=1)\n",
    "\n",
    "print(\"Finished downloading data!\") "
   ]
  },
  {
   "cell_type": "markdown",
   "metadata": {},
   "source": [
    "# 合约数据"
   ]
  },
  {
   "cell_type": "code",
   "execution_count": 66,
   "metadata": {},
   "outputs": [
    {
     "name": "stdout",
     "output_type": "stream",
     "text": [
      "download 2025-02-04...\n",
      "[]\n",
      "Finished downloading data!\n"
     ]
    }
   ],
   "source": [
    "symbol = \"BTCUSDT\"\n",
    "granularity = \"daily\"\n",
    "start_date = datetime(2025, 2, 4)\n",
    "# end_date = datetime(2026, 1, 1)\n",
    "end_date = start_date + timedelta(days=1)\n",
    "current_date = start_date\n",
    "failed_list = []\n",
    "while current_date < end_date:\n",
    "    date_str = current_date.strftime(\"%Y-%m-%d\")\n",
    "    print(f\"download {date_str}...\")\n",
    "    current_date += timedelta(days=1)\n",
    "    try:\n",
    "        url = f\"https://data.binance.vision/data/futures/um/{granularity}/aggTrades/{symbol}/{symbol}-aggTrades-{date_str}.zip\"\n",
    "        file = f\"/mnt/e/um_agg_trade_data/{symbol}-aggTrades-{date_str}.zip\"\n",
    "        if os.path.exists(file):\n",
    "            continue\n",
    "        wget.download(url, out=file)\n",
    "    except:\n",
    "        failed_list.append(date_str)\n",
    "        continue\n",
    "\n",
    "print(failed_list)\n",
    "print(\"Finished downloading data!\") "
   ]
  },
  {
   "cell_type": "code",
   "execution_count": null,
   "metadata": {},
   "outputs": [],
   "source": []
  }
 ],
 "metadata": {
  "kernelspec": {
   "display_name": "crypto",
   "language": "python",
   "name": "python3"
  },
  "language_info": {
   "codemirror_mode": {
    "name": "ipython",
    "version": 3
   },
   "file_extension": ".py",
   "mimetype": "text/x-python",
   "name": "python",
   "nbconvert_exporter": "python",
   "pygments_lexer": "ipython3",
   "version": "3.10.16"
  }
 },
 "nbformat": 4,
 "nbformat_minor": 2
}
