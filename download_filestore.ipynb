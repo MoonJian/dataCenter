{
 "cells": [
  {
   "cell_type": "markdown",
   "metadata": {},
   "source": [
    "# Download from file store: https://reach.stratosphere.capital/data/usdm/"
   ]
  },
  {
   "cell_type": "code",
   "execution_count": 1,
   "metadata": {},
   "outputs": [],
   "source": [
    "import wget"
   ]
  },
  {
   "cell_type": "code",
   "execution_count": 2,
   "metadata": {},
   "outputs": [
    {
     "name": "stdout",
     "output_type": "stream",
     "text": [
      "download 20250120...\n",
      "download 20250121...\n",
      "download 20250122...\n",
      "download 20250123...\n",
      "download 20250124...\n",
      "Finished downloading data!\n"
     ]
    }
   ],
   "source": [
    "symbol = \"btcusdt\"\n",
    "for date in range(20250120, 20250125):\n",
    "    print(f\"download {date}...\")\n",
    "    url = f\"https://reach.stratosphere.capital/data/usdm/{symbol}_{date}.gz\"\n",
    "    file = f\"/mnt/e/hf_data/{symbol}_{date}.gz\"\n",
    "    wget.download(url, out=file)\n",
    "print(\"Finished downloading data!\") "
   ]
  },
  {
   "cell_type": "code",
   "execution_count": null,
   "metadata": {},
   "outputs": [],
   "source": []
  }
 ],
 "metadata": {
  "kernelspec": {
   "display_name": "crypto",
   "language": "python",
   "name": "python3"
  },
  "language_info": {
   "codemirror_mode": {
    "name": "ipython",
    "version": 3
   },
   "file_extension": ".py",
   "mimetype": "text/x-python",
   "name": "python",
   "nbconvert_exporter": "python",
   "pygments_lexer": "ipython3",
   "version": "3.10.16"
  }
 },
 "nbformat": 4,
 "nbformat_minor": 2
}
